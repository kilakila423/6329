{
 "cells": [
  {
   "cell_type": "code",
   "execution_count": 1,
   "id": "3d7e8eb5",
   "metadata": {},
   "outputs": [
    {
     "name": "stderr",
     "output_type": "stream",
     "text": [
      "INFO: Created TensorFlow Lite XNNPACK delegate for CPU.\n"
     ]
    },
    {
     "ename": "KeyboardInterrupt",
     "evalue": "",
     "output_type": "error",
     "traceback": [
      "\u001b[0;31m---------------------------------------------------------------------------\u001b[0m",
      "\u001b[0;31mKeyboardInterrupt\u001b[0m                         Traceback (most recent call last)",
      "\u001b[0;32m/var/folders/wl/gqsk0fmn3f712mz8rd680c5c0000gn/T/ipykernel_62220/476793747.py\u001b[0m in \u001b[0;36m<module>\u001b[0;34m\u001b[0m\n\u001b[1;32m     16\u001b[0m \u001b[0;34m\u001b[0m\u001b[0m\n\u001b[1;32m     17\u001b[0m \u001b[0;32mwhile\u001b[0m \u001b[0;32mTrue\u001b[0m\u001b[0;34m:\u001b[0m\u001b[0;34m\u001b[0m\u001b[0;34m\u001b[0m\u001b[0m\n\u001b[0;32m---> 18\u001b[0;31m     \u001b[0msuccess\u001b[0m\u001b[0;34m,\u001b[0m \u001b[0mimg\u001b[0m\u001b[0;34m=\u001b[0m\u001b[0mcap\u001b[0m\u001b[0;34m.\u001b[0m\u001b[0mread\u001b[0m\u001b[0;34m(\u001b[0m\u001b[0;34m)\u001b[0m\u001b[0;34m\u001b[0m\u001b[0;34m\u001b[0m\u001b[0m\n\u001b[0m\u001b[1;32m     19\u001b[0m     \u001b[0mimg\u001b[0m\u001b[0;34m=\u001b[0m\u001b[0mcv2\u001b[0m\u001b[0;34m.\u001b[0m\u001b[0mflip\u001b[0m\u001b[0;34m(\u001b[0m\u001b[0mimg\u001b[0m\u001b[0;34m,\u001b[0m\u001b[0;36m1\u001b[0m\u001b[0;34m)\u001b[0m\u001b[0;34m\u001b[0m\u001b[0;34m\u001b[0m\u001b[0m\n\u001b[1;32m     20\u001b[0m     \u001b[0mhands\u001b[0m\u001b[0;34m,\u001b[0m \u001b[0mimg\u001b[0m\u001b[0;34m=\u001b[0m\u001b[0mdetector\u001b[0m\u001b[0;34m.\u001b[0m\u001b[0mfindHands\u001b[0m\u001b[0;34m(\u001b[0m\u001b[0mimg\u001b[0m\u001b[0;34m)\u001b[0m\u001b[0;34m\u001b[0m\u001b[0;34m\u001b[0m\u001b[0m\n",
      "\u001b[0;31mKeyboardInterrupt\u001b[0m: "
     ]
    }
   ],
   "source": [
    "import cv2\n",
    "from cvzone.HandTrackingModule import HandDetector\n",
    "import json\n",
    "import numpy as np\n",
    "\n",
    "cap=cv2.VideoCapture(0)\n",
    "cap.set(3,1280)\n",
    "cap.set(4,720)\n",
    "\n",
    "detector=HandDetector(detectionCon=0.8, maxHands=2)\n",
    "colorR1=(255,0,255)\n",
    "colorR2=(255,0,255)\n",
    "colorR3=(255,0,255)\n",
    "colorL=(255,255,255)\n",
    "\n",
    "\n",
    "while True:\n",
    "    success, img=cap.read()\n",
    "    img=cv2.flip(img,1)\n",
    "    hands, img=detector.findHands(img)\n",
    "    \n",
    "    blk = np.zeros(img.shape, np.uint8) \n",
    "    \n",
    "    cv2.rectangle(img,(50,50),(300,150),colorR1,-1)\n",
    "    cv2.rectangle(img,(515,50),(740,150),colorR2,-1)\n",
    "    cv2.rectangle(img,(980,50),(1230,150),colorR3,-1)\n",
    "    \n",
    "    if hands:\n",
    "        hand1=hands[0]\n",
    "        lmList = hand1[\"lmList\"]\n",
    "        \n",
    "        if lmList:\n",
    "            cursor=lmList[8]\n",
    "            if 50<cursor[0]<300 and 50<cursor[1]<150:\n",
    "                \n",
    "                cv2.rectangle(blk,(0,0),(1280,720),colorL,-1)\n",
    "                colorR1=(255,255,0)\n",
    "                img = cv2.addWeighted(img, 1.0, blk, 0.3, 1)\n",
    "            \n",
    "            elif 515<cursor[0]<740 and 50<cursor[1]<150:\n",
    "                cv2.rectangle(blk,(0,0),(1280,720),colorL,-1)\n",
    "                colorR2=(255,255,0)\n",
    "                img = cv2.addWeighted(img, 1.0, blk, 0.2, 1)\n",
    "            \n",
    "            elif 980<cursor[0]<1230 and 50<cursor[1]<150:\n",
    "                cv2.rectangle(blk,(0,0),(1280,720),colorL,-1)\n",
    "                colorR3=(255,255,0)\n",
    "                img = cv2.addWeighted(img, 1.0, blk, 0.1, 1)\n",
    "            \n",
    "            else:\n",
    "                colorR1=(255,0,255)\n",
    "                colorR2=(255,0,255)\n",
    "                colorR3=(255,0,255)\n",
    "    \n",
    "    #cv2.rectangle(blk,(900,400),(1100,600),colorR,-1)\n",
    "   \n",
    "    \n",
    "    #rectangle = np.array([[900, 400], [1100, 400], [1100, 600],[900, 600]])\n",
    "    #mask = 0.5 * cv2.fillPoly(img, [rectangle], colorR)\n",
    "    #mask_img = 0.9 * mask + img\n",
    "    \n",
    "    cv2.imshow(\"Image\",img)\n",
    "    cv2.waitKey(1)"
   ]
  },
  {
   "cell_type": "code",
   "execution_count": null,
   "id": "116965d3",
   "metadata": {},
   "outputs": [],
   "source": []
  }
 ],
 "metadata": {
  "kernelspec": {
   "display_name": "Python 3 (ipykernel)",
   "language": "python",
   "name": "python3"
  },
  "language_info": {
   "codemirror_mode": {
    "name": "ipython",
    "version": 3
   },
   "file_extension": ".py",
   "mimetype": "text/x-python",
   "name": "python",
   "nbconvert_exporter": "python",
   "pygments_lexer": "ipython3",
   "version": "3.9.7"
  }
 },
 "nbformat": 4,
 "nbformat_minor": 5
}
